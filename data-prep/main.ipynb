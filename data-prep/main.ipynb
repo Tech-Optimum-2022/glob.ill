{
 "cells": [
  {
   "cell_type": "code",
   "execution_count": 74,
   "metadata": {},
   "outputs": [],
   "source": [
    "# imports\n",
    "from gesla import GeslaDataset"
   ]
  },
  {
   "cell_type": "code",
   "execution_count": 75,
   "metadata": {},
   "outputs": [],
   "source": [
    "meta_file = \"../data-prep/data/GESLA3_ALL.csv\"\n",
    "data_path = \"/mnt/e/GESLA data/\"\n",
    "\n",
    "g3 = GeslaDataset(meta_file=meta_file, data_path=data_path)"
   ]
  },
  {
   "cell_type": "code",
   "execution_count": 76,
   "metadata": {},
   "outputs": [],
   "source": [
    "filename = \"arecibo-9757809-usa-noaa\"\n",
    "data, meta = g3.file_to_pandas(filename)\n",
    "\n",
    "years = {}\n",
    "levels = []\n",
    "\n",
    "drop = []\n",
    "data = data.reset_index()\n",
    "data = data.drop([\"qc_flag\",\"use_flag\"], axis=1)\n",
    "\n",
    "sum = 0\n",
    "for indx, row in data.iterrows():\n",
    "    if row['sea_level'] < -99:\n",
    "        drop.append(indx)\n",
    "    else:\n",
    "        year = row[\"date_time\"].year\n",
    "        if year not in years:\n",
    "            years[year] = 1\n",
    "            # get average of sum\n",
    "            levels.append(sum/(entries if entries != 0 else 1))\n",
    "\n",
    "            # resets\n",
    "            sum = 0\n",
    "    \n",
    "        #continue to add to sum\n",
    "        sum += row[\"sea_level\"]\n",
    "        years[year] += 1"
   ]
  },
  {
   "cell_type": "code",
   "execution_count": 70,
   "metadata": {},
   "outputs": [
    {
     "data": {
      "text/plain": [
       "[0.0,\n",
       " 7.0778261594928304,\n",
       " 6.980923861942446,\n",
       " 7.040097836774825,\n",
       " 7.0226627920358995,\n",
       " 7.073094711648089,\n",
       " 7.0241844938158655,\n",
       " 7.081209235027683,\n",
       " 7.09730170352662,\n",
       " 7.0743278367158595]"
      ]
     },
     "execution_count": 70,
     "metadata": {},
     "output_type": "execute_result"
    }
   ],
   "source": [
    "levels"
   ]
  },
  {
   "cell_type": "code",
   "execution_count": 62,
   "metadata": {},
   "outputs": [
    {
     "data": {
      "text/plain": [
       "<AxesSubplot:xlabel='date_time'>"
      ]
     },
     "execution_count": 62,
     "metadata": {},
     "output_type": "execute_result"
    },
    {
     "data": {
      "image/png": "[encoded data removed]",
      "text/plain": [
       "<Figure size 432x288 with 1 Axes>"
      ]
     },
     "metadata": {
      "needs_background": "light"
     },
     "output_type": "display_data"
    }
   ],
   "source": [
    "plt.pyplot(data)"
   ]
  },
  {
   "cell_type": "code",
   "execution_count": 73,
   "metadata": {},
   "outputs": [
    {
     "data": {
      "text/plain": [
       "-99.9999"
      ]
     },
     "execution_count": 73,
     "metadata": {},
     "output_type": "execute_result"
    }
   ],
   "source": [
    "meta.null_value"
   ]
  },
  {
   "cell_type": "code",
   "execution_count": null,
   "metadata": {},
   "outputs": [],
   "source": []
  }
 ],
 "metadata": {
  "kernelspec": {
   "display_name": "Python 3.8.10 ('venv': venv)",
   "language": "python",
   "name": "python3"
  },
  "language_info": {
   "codemirror_mode": {
    "name": "ipython",
    "version": 3
   },
   "file_extension": ".py",
   "mimetype": "text/x-python",
   "name": "python",
   "nbconvert_exporter": "python",
   "pygments_lexer": "ipython3",
   "version": "3.8.10"
  },
  "orig_nbformat": 4,
  "vscode": {
   "interpreter": {
    "hash": "e92ec131f5e6a314ea2f98903e1487c96ecded00c5dd41e800d5513d18e8ad68"
   }
  }
 },
 "nbformat": 4,
 "nbformat_minor": 2
}
